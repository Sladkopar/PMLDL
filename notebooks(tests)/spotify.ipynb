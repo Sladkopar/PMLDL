{
 "cells": [
  {
   "cell_type": "markdown",
   "metadata": {},
   "source": [
    "## 1. SPOTIFY API"
   ]
  },
  {
   "cell_type": "markdown",
   "metadata": {},
   "source": [
    "In our database, we do not have every track on Earth, so we need to get information about some tracks that users of our bot like.\n",
    "\n",
    "This functionality can be done using Spotify API"
   ]
  },
  {
   "cell_type": "code",
   "execution_count": 1,
   "metadata": {},
   "outputs": [],
   "source": [
    "import spotipy\n",
    "from spotipy.oauth2 import SpotifyClientCredentials\n",
    "\n",
    "# Replace with your own credentials\n",
    "client_id = 'ID'\n",
    "client_secret = 'SECRET'\n",
    "\n",
    "# Authentication\n",
    "client_credentials_manager = SpotifyClientCredentials(client_id=client_id, client_secret=client_secret)\n",
    "sp = spotipy.Spotify(client_credentials_manager=client_credentials_manager)"
   ]
  },
  {
   "cell_type": "markdown",
   "metadata": {},
   "source": [
    "Let's try to find some track by the title"
   ]
  },
  {
   "cell_type": "code",
   "execution_count": 2,
   "metadata": {},
   "outputs": [
    {
     "name": "stdout",
     "output_type": "stream",
     "text": [
      "Track Name: FUKUROU\n",
      "Artist: CASH GROWE\n",
      "Album: FUKUROU\n",
      "Spotify URI: spotify:track:0jrtuaOgtbwBDH3r6UQbSc\n"
     ]
    }
   ],
   "source": [
    "track_title = 'FUKUROU'\n",
    "results = sp.search(q=f'track:{track_title}', type='track')\n",
    "\n",
    "# Print the first result\n",
    "if results['tracks']['items']:\n",
    "    track = results['tracks']['items'][0]\n",
    "    print(f\"Track Name: {track['name']}\")\n",
    "    print(f\"Artist: {track['artists'][0]['name']}\")\n",
    "    print(f\"Album: {track['album']['name']}\")\n",
    "    print(f\"Spotify URI: {track['uri']}\")\n",
    "else:\n",
    "    print(\"No tracks found.\")"
   ]
  },
  {
   "cell_type": "markdown",
   "metadata": {},
   "source": [
    "Now let's increase the functionality by query-based retrieval (it might be '{artist} - {title}', just '{title}' or something else)"
   ]
  },
  {
   "cell_type": "code",
   "execution_count": 21,
   "metadata": {},
   "outputs": [],
   "source": [
    "def search_track(query, limit=1):\n",
    "    # we take {limit} tracks from the search results\n",
    "    results = sp.search(q=query, type='track', limit=limit)\n",
    "    return results['tracks']['items'][0]\n",
    "\n",
    "\n",
    "res = search_track('track:FUKUROU')"
   ]
  },
  {
   "cell_type": "code",
   "execution_count": 22,
   "metadata": {},
   "outputs": [
    {
     "name": "stdout",
     "output_type": "stream",
     "text": [
      "album:\t{'album_type': 'single', 'artists': [{'external_urls': {'spotify': 'https://open.spotify.com/artist/7eejBhyXLSFgUMq7DFQO3V'}, 'href': 'https://api.spotify.com/v1/artists/7eejBhyXLSFgUMq7DFQO3V', 'id': '7eejBhyXLSFgUMq7DFQO3V', 'name': 'CASH GROWE', 'type': 'artist', 'uri': 'spotify:artist:7eejBhyXLSFgUMq7DFQO3V'}], 'available_markets': ['AR', 'AU', 'AT', 'BE', 'BO', 'BR', 'BG', 'CA', 'CL', 'CO', 'CR', 'CY', 'CZ', 'DK', 'DO', 'DE', 'EC', 'EE', 'SV', 'FI', 'FR', 'GR', 'GT', 'HN', 'HK', 'HU', 'IS', 'IE', 'IT', 'LV', 'LT', 'LU', 'MY', 'MT', 'MX', 'NL', 'NZ', 'NI', 'NO', 'PA', 'PY', 'PE', 'PH', 'PL', 'PT', 'SG', 'SK', 'ES', 'SE', 'CH', 'TW', 'TR', 'UY', 'US', 'GB', 'AD', 'LI', 'MC', 'ID', 'JP', 'TH', 'VN', 'RO', 'IL', 'ZA', 'SA', 'AE', 'BH', 'QA', 'OM', 'KW', 'EG', 'MA', 'DZ', 'TN', 'LB', 'JO', 'PS', 'IN', 'BY', 'KZ', 'MD', 'UA', 'AL', 'BA', 'HR', 'ME', 'MK', 'RS', 'SI', 'KR', 'BD', 'PK', 'LK', 'GH', 'KE', 'NG', 'TZ', 'UG', 'AG', 'AM', 'BS', 'BB', 'BZ', 'BT', 'BW', 'BF', 'CV', 'CW', 'DM', 'FJ', 'GM', 'GE', 'GD', 'GW', 'GY', 'HT', 'JM', 'KI', 'LS', 'LR', 'MW', 'MV', 'ML', 'MH', 'FM', 'NA', 'NR', 'NE', 'PW', 'PG', 'PR', 'WS', 'SM', 'ST', 'SN', 'SC', 'SL', 'SB', 'KN', 'LC', 'VC', 'SR', 'TL', 'TO', 'TT', 'TV', 'VU', 'AZ', 'BN', 'BI', 'KH', 'CM', 'TD', 'KM', 'GQ', 'SZ', 'GA', 'GN', 'KG', 'LA', 'MO', 'MR', 'MN', 'NP', 'RW', 'TG', 'UZ', 'ZW', 'BJ', 'MG', 'MU', 'MZ', 'AO', 'CI', 'DJ', 'ZM', 'CD', 'CG', 'IQ', 'LY', 'TJ', 'VE', 'ET', 'XK'], 'external_urls': {'spotify': 'https://open.spotify.com/album/59Rts70UfeHtvDc2MIz50d'}, 'href': 'https://api.spotify.com/v1/albums/59Rts70UfeHtvDc2MIz50d', 'id': '59Rts70UfeHtvDc2MIz50d', 'images': [{'height': 640, 'url': 'https://i.scdn.co/image/ab67616d0000b2736582065f87e5709647f0a33a', 'width': 640}, {'height': 300, 'url': 'https://i.scdn.co/image/ab67616d00001e026582065f87e5709647f0a33a', 'width': 300}, {'height': 64, 'url': 'https://i.scdn.co/image/ab67616d000048516582065f87e5709647f0a33a', 'width': 64}], 'name': 'FUKUROU', 'release_date': '2021-09-17', 'release_date_precision': 'day', 'total_tracks': 1, 'type': 'album', 'uri': 'spotify:album:59Rts70UfeHtvDc2MIz50d'}\n",
      "artists:\t[{'external_urls': {'spotify': 'https://open.spotify.com/artist/7eejBhyXLSFgUMq7DFQO3V'}, 'href': 'https://api.spotify.com/v1/artists/7eejBhyXLSFgUMq7DFQO3V', 'id': '7eejBhyXLSFgUMq7DFQO3V', 'name': 'CASH GROWE', 'type': 'artist', 'uri': 'spotify:artist:7eejBhyXLSFgUMq7DFQO3V'}]\n",
      "available_markets:\t['AR', 'AU', 'AT', 'BE', 'BO', 'BR', 'BG', 'CA', 'CL', 'CO', 'CR', 'CY', 'CZ', 'DK', 'DO', 'DE', 'EC', 'EE', 'SV', 'FI', 'FR', 'GR', 'GT', 'HN', 'HK', 'HU', 'IS', 'IE', 'IT', 'LV', 'LT', 'LU', 'MY', 'MT', 'MX', 'NL', 'NZ', 'NI', 'NO', 'PA', 'PY', 'PE', 'PH', 'PL', 'PT', 'SG', 'SK', 'ES', 'SE', 'CH', 'TW', 'TR', 'UY', 'US', 'GB', 'AD', 'LI', 'MC', 'ID', 'JP', 'TH', 'VN', 'RO', 'IL', 'ZA', 'SA', 'AE', 'BH', 'QA', 'OM', 'KW', 'EG', 'MA', 'DZ', 'TN', 'LB', 'JO', 'PS', 'IN', 'BY', 'KZ', 'MD', 'UA', 'AL', 'BA', 'HR', 'ME', 'MK', 'RS', 'SI', 'KR', 'BD', 'PK', 'LK', 'GH', 'KE', 'NG', 'TZ', 'UG', 'AG', 'AM', 'BS', 'BB', 'BZ', 'BT', 'BW', 'BF', 'CV', 'CW', 'DM', 'FJ', 'GM', 'GE', 'GD', 'GW', 'GY', 'HT', 'JM', 'KI', 'LS', 'LR', 'MW', 'MV', 'ML', 'MH', 'FM', 'NA', 'NR', 'NE', 'PW', 'PG', 'PR', 'WS', 'SM', 'ST', 'SN', 'SC', 'SL', 'SB', 'KN', 'LC', 'VC', 'SR', 'TL', 'TO', 'TT', 'TV', 'VU', 'AZ', 'BN', 'BI', 'KH', 'CM', 'TD', 'KM', 'GQ', 'SZ', 'GA', 'GN', 'KG', 'LA', 'MO', 'MR', 'MN', 'NP', 'RW', 'TG', 'UZ', 'ZW', 'BJ', 'MG', 'MU', 'MZ', 'AO', 'CI', 'DJ', 'ZM', 'CD', 'CG', 'IQ', 'LY', 'TJ', 'VE', 'ET', 'XK']\n",
      "disc_number:\t1\n",
      "duration_ms:\t162461\n",
      "explicit:\tFalse\n",
      "external_ids:\t{'isrc': 'RUA1D2149780'}\n",
      "external_urls:\t{'spotify': 'https://open.spotify.com/track/0jrtuaOgtbwBDH3r6UQbSc'}\n",
      "href:\thttps://api.spotify.com/v1/tracks/0jrtuaOgtbwBDH3r6UQbSc\n",
      "id:\t0jrtuaOgtbwBDH3r6UQbSc\n",
      "is_local:\tFalse\n",
      "name:\tFUKUROU\n",
      "popularity:\t30\n",
      "preview_url:\thttps://p.scdn.co/mp3-preview/90d044f2989b1673204969ee7fc9e41cae980dec?cid=e15f8ed2b8e64c2c96ddda6830fe4e17\n",
      "track_number:\t1\n",
      "type:\ttrack\n",
      "uri:\tspotify:track:0jrtuaOgtbwBDH3r6UQbSc\n"
     ]
    }
   ],
   "source": [
    "for elem in res:\n",
    "    print(f'{elem}:\\t{res[elem]}')"
   ]
  },
  {
   "cell_type": "markdown",
   "metadata": {},
   "source": [
    "From the code above, we can get the 'popularity' of the track, which could potentially be used for clustering later.\n",
    "\n",
    "Let's get other features like genre, tempo, key, etc. of some track"
   ]
  },
  {
   "cell_type": "code",
   "execution_count": 23,
   "metadata": {},
   "outputs": [
    {
     "name": "stdout",
     "output_type": "stream",
     "text": [
      "danceability:\t0.396\n",
      "energy:\t0.703\n",
      "key:\t5\n",
      "loudness:\t-5.013\n",
      "mode:\t0\n",
      "speechiness:\t0.0899\n",
      "acousticness:\t0.0957\n",
      "instrumentalness:\t0.00386\n",
      "liveness:\t0.167\n",
      "valence:\t0.251\n",
      "tempo:\t85.614\n",
      "type:\taudio_features\n",
      "id:\t0jrtuaOgtbwBDH3r6UQbSc\n",
      "uri:\tspotify:track:0jrtuaOgtbwBDH3r6UQbSc\n",
      "track_href:\thttps://api.spotify.com/v1/tracks/0jrtuaOgtbwBDH3r6UQbSc\n",
      "analysis_url:\thttps://api.spotify.com/v1/audio-analysis/0jrtuaOgtbwBDH3r6UQbSc\n",
      "duration_ms:\t162462\n",
      "time_signature:\t4\n"
     ]
    }
   ],
   "source": [
    "def get_audio_features(track_id):\n",
    "    audio_info = sp.audio_features([track_id])[0]\n",
    "    return audio_info\n",
    "\n",
    "id = res['id']\n",
    "feature = get_audio_features(id)\n",
    "for elem in feature:\n",
    "    print(f'{elem}:\\t{feature[elem]}')"
   ]
  },
  {
   "cell_type": "code",
   "execution_count": 24,
   "metadata": {},
   "outputs": [],
   "source": [
    "def find_track_features(title, artist=None):\n",
    "    if artist:\n",
    "        query = f'track:{title} artist:{artist}'\n",
    "    else:\n",
    "        query = f'track:{title}'\n",
    "\n",
    "    features = search_track(query)\n",
    "    features = features | get_audio_features(features['id'])\n",
    "    return features"
   ]
  },
  {
   "cell_type": "code",
   "execution_count": 25,
   "metadata": {},
   "outputs": [],
   "source": [
    "info = find_track_features('SWITCHING LANES', 'HXVRMXN')"
   ]
  },
  {
   "cell_type": "code",
   "execution_count": 28,
   "metadata": {},
   "outputs": [
    {
     "name": "stdout",
     "output_type": "stream",
     "text": [
      "album:\t{'album_type': 'album', 'artists': [{'external_urls': {'spotify': 'https://open.spotify.com/artist/2kxLXJ17WUKNIwyIfeDigH'}, 'href': 'https://api.spotify.com/v1/artists/2kxLXJ17WUKNIwyIfeDigH', 'id': '2kxLXJ17WUKNIwyIfeDigH', 'name': 'HXVRMXN', 'type': 'artist', 'uri': 'spotify:artist:2kxLXJ17WUKNIwyIfeDigH'}], 'available_markets': ['AR', 'AU', 'AT', 'BE', 'BO', 'BR', 'BG', 'CA', 'CL', 'CO', 'CR', 'CY', 'CZ', 'DK', 'DO', 'DE', 'EC', 'EE', 'SV', 'FI', 'FR', 'GR', 'GT', 'HN', 'HK', 'HU', 'IS', 'IE', 'IT', 'LV', 'LT', 'LU', 'MY', 'MT', 'MX', 'NL', 'NZ', 'NI', 'NO', 'PA', 'PY', 'PE', 'PH', 'PL', 'PT', 'SG', 'SK', 'ES', 'SE', 'CH', 'TW', 'TR', 'UY', 'US', 'GB', 'AD', 'LI', 'MC', 'ID', 'JP', 'TH', 'VN', 'RO', 'IL', 'ZA', 'SA', 'AE', 'BH', 'QA', 'OM', 'KW', 'EG', 'MA', 'DZ', 'TN', 'LB', 'JO', 'PS', 'IN', 'BY', 'KZ', 'MD', 'UA', 'AL', 'BA', 'HR', 'ME', 'MK', 'RS', 'SI', 'KR', 'BD', 'PK', 'LK', 'GH', 'KE', 'NG', 'TZ', 'UG', 'AG', 'AM', 'BS', 'BB', 'BZ', 'BT', 'BW', 'BF', 'CV', 'CW', 'DM', 'FJ', 'GM', 'GE', 'GD', 'GW', 'GY', 'HT', 'JM', 'KI', 'LS', 'LR', 'MW', 'MV', 'ML', 'MH', 'FM', 'NA', 'NR', 'NE', 'PW', 'PG', 'PR', 'WS', 'SM', 'ST', 'SN', 'SC', 'SL', 'SB', 'KN', 'LC', 'VC', 'SR', 'TL', 'TO', 'TT', 'TV', 'VU', 'AZ', 'BN', 'BI', 'KH', 'CM', 'TD', 'KM', 'GQ', 'SZ', 'GA', 'GN', 'KG', 'LA', 'MO', 'MR', 'MN', 'NP', 'RW', 'TG', 'UZ', 'ZW', 'BJ', 'MG', 'MU', 'MZ', 'AO', 'CI', 'DJ', 'ZM', 'CD', 'CG', 'IQ', 'LY', 'TJ', 'VE', 'ET', 'XK'], 'external_urls': {'spotify': 'https://open.spotify.com/album/4BiEgXM0oeleWNNEevB16J'}, 'href': 'https://api.spotify.com/v1/albums/4BiEgXM0oeleWNNEevB16J', 'id': '4BiEgXM0oeleWNNEevB16J', 'images': [{'height': 640, 'url': 'https://i.scdn.co/image/ab67616d0000b273f43da1b602d39792f0db084e', 'width': 640}, {'height': 300, 'url': 'https://i.scdn.co/image/ab67616d00001e02f43da1b602d39792f0db084e', 'width': 300}, {'height': 64, 'url': 'https://i.scdn.co/image/ab67616d00004851f43da1b602d39792f0db084e', 'width': 64}], 'name': 'SWITCHING LANES', 'release_date': '2021-10-08', 'release_date_precision': 'day', 'total_tracks': 8, 'type': 'album', 'uri': 'spotify:album:4BiEgXM0oeleWNNEevB16J'}\n",
      "artists:\t[{'external_urls': {'spotify': 'https://open.spotify.com/artist/2kxLXJ17WUKNIwyIfeDigH'}, 'href': 'https://api.spotify.com/v1/artists/2kxLXJ17WUKNIwyIfeDigH', 'id': '2kxLXJ17WUKNIwyIfeDigH', 'name': 'HXVRMXN', 'type': 'artist', 'uri': 'spotify:artist:2kxLXJ17WUKNIwyIfeDigH'}, {'external_urls': {'spotify': 'https://open.spotify.com/artist/779QJkvhTmrxtUGaMo8QbK'}, 'href': 'https://api.spotify.com/v1/artists/779QJkvhTmrxtUGaMo8QbK', 'id': '779QJkvhTmrxtUGaMo8QbK', 'name': 'SLVG', 'type': 'artist', 'uri': 'spotify:artist:779QJkvhTmrxtUGaMo8QbK'}, {'external_urls': {'spotify': 'https://open.spotify.com/artist/23vwxJA0kYYvK0iwe06MAd'}, 'href': 'https://api.spotify.com/v1/artists/23vwxJA0kYYvK0iwe06MAd', 'id': '23vwxJA0kYYvK0iwe06MAd', 'name': 'XHNORT', 'type': 'artist', 'uri': 'spotify:artist:23vwxJA0kYYvK0iwe06MAd'}]\n",
      "available_markets:\t['AR', 'AU', 'AT', 'BE', 'BO', 'BR', 'BG', 'CA', 'CL', 'CO', 'CR', 'CY', 'CZ', 'DK', 'DO', 'DE', 'EC', 'EE', 'SV', 'FI', 'FR', 'GR', 'GT', 'HN', 'HK', 'HU', 'IS', 'IE', 'IT', 'LV', 'LT', 'LU', 'MY', 'MT', 'MX', 'NL', 'NZ', 'NI', 'NO', 'PA', 'PY', 'PE', 'PH', 'PL', 'PT', 'SG', 'SK', 'ES', 'SE', 'CH', 'TW', 'TR', 'UY', 'US', 'GB', 'AD', 'LI', 'MC', 'ID', 'JP', 'TH', 'VN', 'RO', 'IL', 'ZA', 'SA', 'AE', 'BH', 'QA', 'OM', 'KW', 'EG', 'MA', 'DZ', 'TN', 'LB', 'JO', 'PS', 'IN', 'BY', 'KZ', 'MD', 'UA', 'AL', 'BA', 'HR', 'ME', 'MK', 'RS', 'SI', 'KR', 'BD', 'PK', 'LK', 'GH', 'KE', 'NG', 'TZ', 'UG', 'AG', 'AM', 'BS', 'BB', 'BZ', 'BT', 'BW', 'BF', 'CV', 'CW', 'DM', 'FJ', 'GM', 'GE', 'GD', 'GW', 'GY', 'HT', 'JM', 'KI', 'LS', 'LR', 'MW', 'MV', 'ML', 'MH', 'FM', 'NA', 'NR', 'NE', 'PW', 'PG', 'PR', 'WS', 'SM', 'ST', 'SN', 'SC', 'SL', 'SB', 'KN', 'LC', 'VC', 'SR', 'TL', 'TO', 'TT', 'TV', 'VU', 'AZ', 'BN', 'BI', 'KH', 'CM', 'TD', 'KM', 'GQ', 'SZ', 'GA', 'GN', 'KG', 'LA', 'MO', 'MR', 'MN', 'NP', 'RW', 'TG', 'UZ', 'ZW', 'BJ', 'MG', 'MU', 'MZ', 'AO', 'CI', 'DJ', 'ZM', 'CD', 'CG', 'IQ', 'LY', 'TJ', 'VE', 'ET', 'XK']\n",
      "disc_number:\t1\n",
      "duration_ms:\t162908\n",
      "explicit:\tTrue\n",
      "external_ids:\t{'isrc': 'QMDA62138191'}\n",
      "external_urls:\t{'spotify': 'https://open.spotify.com/track/5WMzWvcNbVMUDrOIRcZAVa'}\n",
      "href:\thttps://api.spotify.com/v1/tracks/5WMzWvcNbVMUDrOIRcZAVa\n",
      "id:\t5WMzWvcNbVMUDrOIRcZAVa\n",
      "is_local:\tFalse\n",
      "name:\tSWITCHING LANES\n",
      "popularity:\t37\n",
      "preview_url:\thttps://p.scdn.co/mp3-preview/230fa9040100eef3b1b727df70153e8642969159?cid=e15f8ed2b8e64c2c96ddda6830fe4e17\n",
      "track_number:\t2\n",
      "type:\taudio_features\n",
      "uri:\tspotify:track:5WMzWvcNbVMUDrOIRcZAVa\n",
      "danceability:\t0.675\n",
      "energy:\t0.789\n",
      "key:\t7\n",
      "loudness:\t-10.197\n",
      "mode:\t0\n",
      "speechiness:\t0.035\n",
      "acousticness:\t0.0452\n",
      "instrumentalness:\t0.917\n",
      "liveness:\t0.165\n",
      "valence:\t0.106\n",
      "tempo:\t117.984\n",
      "track_href:\thttps://api.spotify.com/v1/tracks/5WMzWvcNbVMUDrOIRcZAVa\n",
      "analysis_url:\thttps://api.spotify.com/v1/audio-analysis/5WMzWvcNbVMUDrOIRcZAVa\n",
      "time_signature:\t4\n"
     ]
    }
   ],
   "source": [
    "for f in info:\n",
    "    print(f'{f}:\\t{info[f]}')"
   ]
  },
  {
   "cell_type": "markdown",
   "metadata": {},
   "source": [
    "Now, let's change the structure of the dick a little bit"
   ]
  },
  {
   "cell_type": "code",
   "execution_count": 29,
   "metadata": {},
   "outputs": [],
   "source": [
    "def format_track(info):\n",
    "    features = dict({\n",
    "        'id': info.get('id'),\n",
    "        'name': info.get('name'),\n",
    "        'album': info['album'].get('name') if info.get('album') else None,\n",
    "        'album_id': info['album'].get('id') if info.get('album') else None,\n",
    "        'artists': '',\n",
    "        'artist_ids': '',\n",
    "        'track_number': info.get('track_number'),\n",
    "        'disc_number': info.get('disc_number'),\n",
    "        'explicit': info.get('explicit'),\n",
    "        'danceability': info.get('danceability'),\n",
    "        'energy': info.get('energy'),\n",
    "        'key': info.get('key'),\n",
    "        'loudness': info.get('loudness'),\n",
    "        'mode': info.get('mode'),\n",
    "        'speechiness': info.get('speechiness'),\n",
    "        'acousticness': info.get('acousticness'),\n",
    "        'instrumentalness': info.get('instrumentalness'),\n",
    "        'liveness': info.get('liveness'),\n",
    "        'valence': info.get('valence'),\n",
    "        'tempo': info.get('tempo'),\n",
    "        'duration_ms': info.get('duration_ms'),\n",
    "        'time_signature': info.get('time_signature'),\n",
    "        'year': info['album']['release_date'].split('-')[0] if info.get('album') and info['album'].get('release_date') else None,\n",
    "        'release_date': info['album'].get('release_date') if info.get('album') else None,\n",
    "\n",
    "        # new fields\n",
    "        'popularity': info.get('popularity')\n",
    "        })\n",
    "    \n",
    "    artists_names = [artist['name'] for artist in info['artists']]\n",
    "    features['artists'] = artists_names\n",
    "    artists_ids = [artist['id'] for artist in info['artists']]\n",
    "    features['artist_ids'] = artists_ids\n",
    "    return features"
   ]
  },
  {
   "cell_type": "code",
   "execution_count": 30,
   "metadata": {},
   "outputs": [
    {
     "name": "stdout",
     "output_type": "stream",
     "text": [
      "id:\t5WMzWvcNbVMUDrOIRcZAVa\n",
      "name:\tSWITCHING LANES\n",
      "album:\tSWITCHING LANES\n",
      "album_id:\t4BiEgXM0oeleWNNEevB16J\n",
      "artists:\t['HXVRMXN', 'SLVG', 'XHNORT']\n",
      "artist_ids:\t['2kxLXJ17WUKNIwyIfeDigH', '779QJkvhTmrxtUGaMo8QbK', '23vwxJA0kYYvK0iwe06MAd']\n",
      "track_number:\t2\n",
      "disc_number:\t1\n",
      "explicit:\tTrue\n",
      "danceability:\t0.675\n",
      "energy:\t0.789\n",
      "key:\t7\n",
      "loudness:\t-10.197\n",
      "mode:\t0\n",
      "speechiness:\t0.035\n",
      "acousticness:\t0.0452\n",
      "instrumentalness:\t0.917\n",
      "liveness:\t0.165\n",
      "valence:\t0.106\n",
      "tempo:\t117.984\n",
      "duration_ms:\t162908\n",
      "time_signature:\t4\n",
      "year:\t2021\n",
      "release_date:\t2021-10-08\n",
      "popularity:\t37\n"
     ]
    }
   ],
   "source": [
    "feature = format_track(info)\n",
    "for elem in feature:\n",
    "    print(f'{elem}:\\t{feature[elem]}')"
   ]
  },
  {
   "cell_type": "markdown",
   "metadata": {},
   "source": [
    "## 2. LIMITATIONS\n",
    "\n",
    "The code below supposed to extend our data frame with new features(popularity and genres), but the API of Spotify have rate and amount of searches limits, so it is not possible to extend features of 1M+ records\n",
    "\n",
    "So, that code will not present in the resulting project, it was just for testing"
   ]
  },
  {
   "cell_type": "code",
   "execution_count": 11,
   "metadata": {},
   "outputs": [
    {
     "name": "stdout",
     "output_type": "stream",
     "text": [
      "album:\t{'album_type': 'album', 'artists': [{'external_urls': {'spotify': 'https://open.spotify.com/artist/2kxLXJ17WUKNIwyIfeDigH'}, 'href': 'https://api.spotify.com/v1/artists/2kxLXJ17WUKNIwyIfeDigH', 'id': '2kxLXJ17WUKNIwyIfeDigH', 'name': 'HXVRMXN', 'type': 'artist', 'uri': 'spotify:artist:2kxLXJ17WUKNIwyIfeDigH'}], 'available_markets': ['AR', 'AU', 'AT', 'BE', 'BO', 'BR', 'BG', 'CA', 'CL', 'CO', 'CR', 'CY', 'CZ', 'DK', 'DO', 'DE', 'EC', 'EE', 'SV', 'FI', 'FR', 'GR', 'GT', 'HN', 'HK', 'HU', 'IS', 'IE', 'IT', 'LV', 'LT', 'LU', 'MY', 'MT', 'MX', 'NL', 'NZ', 'NI', 'NO', 'PA', 'PY', 'PE', 'PH', 'PL', 'PT', 'SG', 'SK', 'ES', 'SE', 'CH', 'TW', 'TR', 'UY', 'US', 'GB', 'AD', 'LI', 'MC', 'ID', 'JP', 'TH', 'VN', 'RO', 'IL', 'ZA', 'SA', 'AE', 'BH', 'QA', 'OM', 'KW', 'EG', 'MA', 'DZ', 'TN', 'LB', 'JO', 'PS', 'IN', 'BY', 'KZ', 'MD', 'UA', 'AL', 'BA', 'HR', 'ME', 'MK', 'RS', 'SI', 'KR', 'BD', 'PK', 'LK', 'GH', 'KE', 'NG', 'TZ', 'UG', 'AG', 'AM', 'BS', 'BB', 'BZ', 'BT', 'BW', 'BF', 'CV', 'CW', 'DM', 'FJ', 'GM', 'GE', 'GD', 'GW', 'GY', 'HT', 'JM', 'KI', 'LS', 'LR', 'MW', 'MV', 'ML', 'MH', 'FM', 'NA', 'NR', 'NE', 'PW', 'PG', 'PR', 'WS', 'SM', 'ST', 'SN', 'SC', 'SL', 'SB', 'KN', 'LC', 'VC', 'SR', 'TL', 'TO', 'TT', 'TV', 'VU', 'AZ', 'BN', 'BI', 'KH', 'CM', 'TD', 'KM', 'GQ', 'SZ', 'GA', 'GN', 'KG', 'LA', 'MO', 'MR', 'MN', 'NP', 'RW', 'TG', 'UZ', 'ZW', 'BJ', 'MG', 'MU', 'MZ', 'AO', 'CI', 'DJ', 'ZM', 'CD', 'CG', 'IQ', 'LY', 'TJ', 'VE', 'ET', 'XK'], 'external_urls': {'spotify': 'https://open.spotify.com/album/4BiEgXM0oeleWNNEevB16J'}, 'href': 'https://api.spotify.com/v1/albums/4BiEgXM0oeleWNNEevB16J', 'id': '4BiEgXM0oeleWNNEevB16J', 'images': [{'url': 'https://i.scdn.co/image/ab67616d0000b273f43da1b602d39792f0db084e', 'width': 640, 'height': 640}, {'url': 'https://i.scdn.co/image/ab67616d00001e02f43da1b602d39792f0db084e', 'width': 300, 'height': 300}, {'url': 'https://i.scdn.co/image/ab67616d00004851f43da1b602d39792f0db084e', 'width': 64, 'height': 64}], 'name': 'SWITCHING LANES', 'release_date': '2021-10-08', 'release_date_precision': 'day', 'total_tracks': 8, 'type': 'album', 'uri': 'spotify:album:4BiEgXM0oeleWNNEevB16J'}\n",
      "artists:\t[{'external_urls': {'spotify': 'https://open.spotify.com/artist/2kxLXJ17WUKNIwyIfeDigH'}, 'href': 'https://api.spotify.com/v1/artists/2kxLXJ17WUKNIwyIfeDigH', 'id': '2kxLXJ17WUKNIwyIfeDigH', 'name': 'HXVRMXN', 'type': 'artist', 'uri': 'spotify:artist:2kxLXJ17WUKNIwyIfeDigH'}, {'external_urls': {'spotify': 'https://open.spotify.com/artist/779QJkvhTmrxtUGaMo8QbK'}, 'href': 'https://api.spotify.com/v1/artists/779QJkvhTmrxtUGaMo8QbK', 'id': '779QJkvhTmrxtUGaMo8QbK', 'name': 'SLVG', 'type': 'artist', 'uri': 'spotify:artist:779QJkvhTmrxtUGaMo8QbK'}, {'external_urls': {'spotify': 'https://open.spotify.com/artist/23vwxJA0kYYvK0iwe06MAd'}, 'href': 'https://api.spotify.com/v1/artists/23vwxJA0kYYvK0iwe06MAd', 'id': '23vwxJA0kYYvK0iwe06MAd', 'name': 'XHNORT', 'type': 'artist', 'uri': 'spotify:artist:23vwxJA0kYYvK0iwe06MAd'}]\n",
      "available_markets:\t['AR', 'AU', 'AT', 'BE', 'BO', 'BR', 'BG', 'CA', 'CL', 'CO', 'CR', 'CY', 'CZ', 'DK', 'DO', 'DE', 'EC', 'EE', 'SV', 'FI', 'FR', 'GR', 'GT', 'HN', 'HK', 'HU', 'IS', 'IE', 'IT', 'LV', 'LT', 'LU', 'MY', 'MT', 'MX', 'NL', 'NZ', 'NI', 'NO', 'PA', 'PY', 'PE', 'PH', 'PL', 'PT', 'SG', 'SK', 'ES', 'SE', 'CH', 'TW', 'TR', 'UY', 'US', 'GB', 'AD', 'LI', 'MC', 'ID', 'JP', 'TH', 'VN', 'RO', 'IL', 'ZA', 'SA', 'AE', 'BH', 'QA', 'OM', 'KW', 'EG', 'MA', 'DZ', 'TN', 'LB', 'JO', 'PS', 'IN', 'BY', 'KZ', 'MD', 'UA', 'AL', 'BA', 'HR', 'ME', 'MK', 'RS', 'SI', 'KR', 'BD', 'PK', 'LK', 'GH', 'KE', 'NG', 'TZ', 'UG', 'AG', 'AM', 'BS', 'BB', 'BZ', 'BT', 'BW', 'BF', 'CV', 'CW', 'DM', 'FJ', 'GM', 'GE', 'GD', 'GW', 'GY', 'HT', 'JM', 'KI', 'LS', 'LR', 'MW', 'MV', 'ML', 'MH', 'FM', 'NA', 'NR', 'NE', 'PW', 'PG', 'PR', 'WS', 'SM', 'ST', 'SN', 'SC', 'SL', 'SB', 'KN', 'LC', 'VC', 'SR', 'TL', 'TO', 'TT', 'TV', 'VU', 'AZ', 'BN', 'BI', 'KH', 'CM', 'TD', 'KM', 'GQ', 'SZ', 'GA', 'GN', 'KG', 'LA', 'MO', 'MR', 'MN', 'NP', 'RW', 'TG', 'UZ', 'ZW', 'BJ', 'MG', 'MU', 'MZ', 'AO', 'CI', 'DJ', 'ZM', 'CD', 'CG', 'IQ', 'LY', 'TJ', 'VE', 'ET', 'XK']\n",
      "disc_number:\t1\n",
      "duration_ms:\t162908\n",
      "explicit:\tTrue\n",
      "external_ids:\t{'isrc': 'QMDA62138191'}\n",
      "external_urls:\t{'spotify': 'https://open.spotify.com/track/5WMzWvcNbVMUDrOIRcZAVa'}\n",
      "href:\thttps://api.spotify.com/v1/tracks/5WMzWvcNbVMUDrOIRcZAVa\n",
      "id:\t5WMzWvcNbVMUDrOIRcZAVa\n",
      "is_local:\tFalse\n",
      "name:\tSWITCHING LANES\n",
      "popularity:\t37\n",
      "preview_url:\thttps://p.scdn.co/mp3-preview/230fa9040100eef3b1b727df70153e8642969159?cid=e90c950c82eb459fa420500dc1b7b21a\n",
      "track_number:\t2\n",
      "type:\taudio_features\n",
      "uri:\tspotify:track:5WMzWvcNbVMUDrOIRcZAVa\n",
      "danceability:\t0.675\n",
      "energy:\t0.789\n",
      "key:\t7\n",
      "loudness:\t-10.197\n",
      "mode:\t0\n",
      "speechiness:\t0.035\n",
      "acousticness:\t0.0452\n",
      "instrumentalness:\t0.917\n",
      "liveness:\t0.165\n",
      "valence:\t0.106\n",
      "tempo:\t117.984\n",
      "track_href:\thttps://api.spotify.com/v1/tracks/5WMzWvcNbVMUDrOIRcZAVa\n",
      "analysis_url:\thttps://api.spotify.com/v1/audio-analysis/5WMzWvcNbVMUDrOIRcZAVa\n",
      "time_signature:\t4\n",
      "genres:\t['drift phonk']\n"
     ]
    }
   ],
   "source": [
    "def get_audio_features(track_id):\n",
    "    features = sp.track(track_id)\n",
    "    audio_info = sp.audio_features([track_id])[0]\n",
    "    summary = features | audio_info\n",
    "\n",
    "    genres = set()\n",
    "    artists_ids = [artist['id'] for artist in summary['artists']]\n",
    "    for artist_id in artists_ids:\n",
    "        artist_info = sp.artist(artist_id)\n",
    "        genres.update(artist_info['genres'])\n",
    "    genres = list(genres)\n",
    "    summary['genres'] = genres\n",
    "\n",
    "    return summary\n",
    "\n",
    "id = search_track('SWITCHING LANES HXVRMXN', 1)[0]['id']\n",
    "feature = get_audio_features(id)\n",
    "for elem in feature:\n",
    "    print(f'{elem}:\\t{feature[elem]}')"
   ]
  },
  {
   "cell_type": "markdown",
   "metadata": {},
   "source": [
    "Let's see what information we could get from the 'album' field"
   ]
  },
  {
   "cell_type": "code",
   "execution_count": 13,
   "metadata": {},
   "outputs": [
    {
     "name": "stdout",
     "output_type": "stream",
     "text": [
      "album_type:\talbum\n",
      "artists:\t[{'external_urls': {'spotify': 'https://open.spotify.com/artist/2kxLXJ17WUKNIwyIfeDigH'}, 'href': 'https://api.spotify.com/v1/artists/2kxLXJ17WUKNIwyIfeDigH', 'id': '2kxLXJ17WUKNIwyIfeDigH', 'name': 'HXVRMXN', 'type': 'artist', 'uri': 'spotify:artist:2kxLXJ17WUKNIwyIfeDigH'}]\n",
      "available_markets:\t['AR', 'AU', 'AT', 'BE', 'BO', 'BR', 'BG', 'CA', 'CL', 'CO', 'CR', 'CY', 'CZ', 'DK', 'DO', 'DE', 'EC', 'EE', 'SV', 'FI', 'FR', 'GR', 'GT', 'HN', 'HK', 'HU', 'IS', 'IE', 'IT', 'LV', 'LT', 'LU', 'MY', 'MT', 'MX', 'NL', 'NZ', 'NI', 'NO', 'PA', 'PY', 'PE', 'PH', 'PL', 'PT', 'SG', 'SK', 'ES', 'SE', 'CH', 'TW', 'TR', 'UY', 'US', 'GB', 'AD', 'LI', 'MC', 'ID', 'JP', 'TH', 'VN', 'RO', 'IL', 'ZA', 'SA', 'AE', 'BH', 'QA', 'OM', 'KW', 'EG', 'MA', 'DZ', 'TN', 'LB', 'JO', 'PS', 'IN', 'BY', 'KZ', 'MD', 'UA', 'AL', 'BA', 'HR', 'ME', 'MK', 'RS', 'SI', 'KR', 'BD', 'PK', 'LK', 'GH', 'KE', 'NG', 'TZ', 'UG', 'AG', 'AM', 'BS', 'BB', 'BZ', 'BT', 'BW', 'BF', 'CV', 'CW', 'DM', 'FJ', 'GM', 'GE', 'GD', 'GW', 'GY', 'HT', 'JM', 'KI', 'LS', 'LR', 'MW', 'MV', 'ML', 'MH', 'FM', 'NA', 'NR', 'NE', 'PW', 'PG', 'PR', 'WS', 'SM', 'ST', 'SN', 'SC', 'SL', 'SB', 'KN', 'LC', 'VC', 'SR', 'TL', 'TO', 'TT', 'TV', 'VU', 'AZ', 'BN', 'BI', 'KH', 'CM', 'TD', 'KM', 'GQ', 'SZ', 'GA', 'GN', 'KG', 'LA', 'MO', 'MR', 'MN', 'NP', 'RW', 'TG', 'UZ', 'ZW', 'BJ', 'MG', 'MU', 'MZ', 'AO', 'CI', 'DJ', 'ZM', 'CD', 'CG', 'IQ', 'LY', 'TJ', 'VE', 'ET', 'XK']\n",
      "external_urls:\t{'spotify': 'https://open.spotify.com/album/4BiEgXM0oeleWNNEevB16J'}\n",
      "href:\thttps://api.spotify.com/v1/albums/4BiEgXM0oeleWNNEevB16J\n",
      "id:\t4BiEgXM0oeleWNNEevB16J\n",
      "images:\t[{'url': 'https://i.scdn.co/image/ab67616d0000b273f43da1b602d39792f0db084e', 'width': 640, 'height': 640}, {'url': 'https://i.scdn.co/image/ab67616d00001e02f43da1b602d39792f0db084e', 'width': 300, 'height': 300}, {'url': 'https://i.scdn.co/image/ab67616d00004851f43da1b602d39792f0db084e', 'width': 64, 'height': 64}]\n",
      "name:\tSWITCHING LANES\n",
      "release_date:\t2021-10-08\n",
      "release_date_precision:\tday\n",
      "total_tracks:\t8\n",
      "type:\talbum\n",
      "uri:\tspotify:album:4BiEgXM0oeleWNNEevB16J\n"
     ]
    }
   ],
   "source": [
    "for f in feature['album']:\n",
    "    print(f'{f}:\\t{feature['album'][f]}')"
   ]
  },
  {
   "cell_type": "markdown",
   "metadata": {},
   "source": [
    "Now, we are able to collect all the features from the dataframe features list and even more(also genres associated with authors and popularity of the track), so it is possible to make our search look a little bit more understandable"
   ]
  },
  {
   "cell_type": "code",
   "execution_count": 14,
   "metadata": {},
   "outputs": [
    {
     "name": "stdout",
     "output_type": "stream",
     "text": [
      "id:\t5WMzWvcNbVMUDrOIRcZAVa\n",
      "name:\tSWITCHING LANES\n",
      "album:\tSWITCHING LANES\n",
      "album_id:\t4BiEgXM0oeleWNNEevB16J\n",
      "artists:\t['HXVRMXN', 'SLVG', 'XHNORT']\n",
      "artist_ids:\t['2kxLXJ17WUKNIwyIfeDigH', '779QJkvhTmrxtUGaMo8QbK', '23vwxJA0kYYvK0iwe06MAd']\n",
      "track_number:\t2\n",
      "disc_number:\t1\n",
      "explicit:\tTrue\n",
      "danceability:\t0.675\n",
      "energy:\t0.789\n",
      "key:\t7\n",
      "loudness:\t-10.197\n",
      "mode:\t0\n",
      "speechiness:\t0.035\n",
      "acousticness:\t0.0452\n",
      "instrumentalness:\t0.917\n",
      "liveness:\t0.165\n",
      "valence:\t0.106\n",
      "tempo:\t117.984\n",
      "duration_ms:\t162908\n",
      "time_signature:\t4\n",
      "year:\t2021\n",
      "release_date:\t2021-10-08\n",
      "popularity:\t37\n",
      "genres:\t['drift phonk']\n"
     ]
    }
   ],
   "source": [
    "def format_track(info):\n",
    "    features = dict({\n",
    "        'id': info.get('id'),\n",
    "        'name': info.get('name'),\n",
    "        'album': info['album'].get('name') if info.get('album') else None,\n",
    "        'album_id': info['album'].get('id') if info.get('album') else None,\n",
    "        'artists': '',\n",
    "        'artist_ids': '',\n",
    "        'track_number': info.get('track_number'),\n",
    "        'disc_number': info.get('disc_number'),\n",
    "        'explicit': info.get('explicit'),\n",
    "        'danceability': info.get('danceability'),\n",
    "        'energy': info.get('energy'),\n",
    "        'key': info.get('key'),\n",
    "        'loudness': info.get('loudness'),\n",
    "        'mode': info.get('mode'),\n",
    "        'speechiness': info.get('speechiness'),\n",
    "        'acousticness': info.get('acousticness'),\n",
    "        'instrumentalness': info.get('instrumentalness'),\n",
    "        'liveness': info.get('liveness'),\n",
    "        'valence': info.get('valence'),\n",
    "        'tempo': info.get('tempo'),\n",
    "        'duration_ms': info.get('duration_ms'),\n",
    "        'time_signature': info.get('time_signature'),\n",
    "        'year': info['album']['release_date'].split('-')[0] if info.get('album') and info['album'].get('release_date') else None,\n",
    "        'release_date': info['album'].get('release_date') if info.get('album') else None,\n",
    "\n",
    "        # new fields\n",
    "        'popularity': info.get('popularity'),\n",
    "        'genres': info.get('genres')\n",
    "})\n",
    "    artists_names = [artist['name'] for artist in info['artists']]\n",
    "    features['artists'] = artists_names\n",
    "    artists_ids = [artist['id'] for artist in info['artists']]\n",
    "    features['artist_ids'] = artists_ids\n",
    "    return features\n",
    "\n",
    "feature = format_track(feature)\n",
    "for elem in feature:\n",
    "    print(f'{elem}:\\t{feature[elem]}')"
   ]
  },
  {
   "cell_type": "markdown",
   "metadata": {},
   "source": [
    "## 3. DATAFRAME EXTENSION"
   ]
  },
  {
   "cell_type": "markdown",
   "metadata": {},
   "source": [
    "Now, we can test how it will look like..."
   ]
  },
  {
   "cell_type": "code",
   "execution_count": 17,
   "metadata": {},
   "outputs": [
    {
     "data": {
      "text/html": [
       "<div>\n",
       "<style scoped>\n",
       "    .dataframe tbody tr th:only-of-type {\n",
       "        vertical-align: middle;\n",
       "    }\n",
       "\n",
       "    .dataframe tbody tr th {\n",
       "        vertical-align: top;\n",
       "    }\n",
       "\n",
       "    .dataframe thead th {\n",
       "        text-align: right;\n",
       "    }\n",
       "</style>\n",
       "<table border=\"1\" class=\"dataframe\">\n",
       "  <thead>\n",
       "    <tr style=\"text-align: right;\">\n",
       "      <th></th>\n",
       "      <th>id</th>\n",
       "      <th>name</th>\n",
       "      <th>album</th>\n",
       "      <th>album_id</th>\n",
       "      <th>artists</th>\n",
       "      <th>artist_ids</th>\n",
       "      <th>track_number</th>\n",
       "      <th>disc_number</th>\n",
       "      <th>explicit</th>\n",
       "      <th>danceability</th>\n",
       "      <th>...</th>\n",
       "      <th>speechiness</th>\n",
       "      <th>acousticness</th>\n",
       "      <th>instrumentalness</th>\n",
       "      <th>liveness</th>\n",
       "      <th>valence</th>\n",
       "      <th>tempo</th>\n",
       "      <th>duration_ms</th>\n",
       "      <th>time_signature</th>\n",
       "      <th>year</th>\n",
       "      <th>release_date</th>\n",
       "    </tr>\n",
       "  </thead>\n",
       "  <tbody>\n",
       "    <tr>\n",
       "      <th>0</th>\n",
       "      <td>7lmeHLHBe4nmXzuXc0HDjk</td>\n",
       "      <td>Testify</td>\n",
       "      <td>The Battle Of Los Angeles</td>\n",
       "      <td>2eia0myWFgoHuttJytCxgX</td>\n",
       "      <td>['Rage Against The Machine']</td>\n",
       "      <td>['2d0hyoQ5ynDBnkvAbJKORj']</td>\n",
       "      <td>1</td>\n",
       "      <td>1</td>\n",
       "      <td>False</td>\n",
       "      <td>0.470</td>\n",
       "      <td>...</td>\n",
       "      <td>0.0727</td>\n",
       "      <td>0.02610</td>\n",
       "      <td>0.000011</td>\n",
       "      <td>0.3560</td>\n",
       "      <td>0.503</td>\n",
       "      <td>117.906</td>\n",
       "      <td>210133</td>\n",
       "      <td>4.0</td>\n",
       "      <td>1999</td>\n",
       "      <td>1999-11-02</td>\n",
       "    </tr>\n",
       "    <tr>\n",
       "      <th>1</th>\n",
       "      <td>1wsRitfRRtWyEapl0q22o8</td>\n",
       "      <td>Guerrilla Radio</td>\n",
       "      <td>The Battle Of Los Angeles</td>\n",
       "      <td>2eia0myWFgoHuttJytCxgX</td>\n",
       "      <td>['Rage Against The Machine']</td>\n",
       "      <td>['2d0hyoQ5ynDBnkvAbJKORj']</td>\n",
       "      <td>2</td>\n",
       "      <td>1</td>\n",
       "      <td>True</td>\n",
       "      <td>0.599</td>\n",
       "      <td>...</td>\n",
       "      <td>0.1880</td>\n",
       "      <td>0.01290</td>\n",
       "      <td>0.000071</td>\n",
       "      <td>0.1550</td>\n",
       "      <td>0.489</td>\n",
       "      <td>103.680</td>\n",
       "      <td>206200</td>\n",
       "      <td>4.0</td>\n",
       "      <td>1999</td>\n",
       "      <td>1999-11-02</td>\n",
       "    </tr>\n",
       "    <tr>\n",
       "      <th>2</th>\n",
       "      <td>1hR0fIFK2qRG3f3RF70pb7</td>\n",
       "      <td>Calm Like a Bomb</td>\n",
       "      <td>The Battle Of Los Angeles</td>\n",
       "      <td>2eia0myWFgoHuttJytCxgX</td>\n",
       "      <td>['Rage Against The Machine']</td>\n",
       "      <td>['2d0hyoQ5ynDBnkvAbJKORj']</td>\n",
       "      <td>3</td>\n",
       "      <td>1</td>\n",
       "      <td>False</td>\n",
       "      <td>0.315</td>\n",
       "      <td>...</td>\n",
       "      <td>0.4830</td>\n",
       "      <td>0.02340</td>\n",
       "      <td>0.000002</td>\n",
       "      <td>0.1220</td>\n",
       "      <td>0.370</td>\n",
       "      <td>149.749</td>\n",
       "      <td>298893</td>\n",
       "      <td>4.0</td>\n",
       "      <td>1999</td>\n",
       "      <td>1999-11-02</td>\n",
       "    </tr>\n",
       "    <tr>\n",
       "      <th>3</th>\n",
       "      <td>2lbASgTSoDO7MTuLAXlTW0</td>\n",
       "      <td>Mic Check</td>\n",
       "      <td>The Battle Of Los Angeles</td>\n",
       "      <td>2eia0myWFgoHuttJytCxgX</td>\n",
       "      <td>['Rage Against The Machine']</td>\n",
       "      <td>['2d0hyoQ5ynDBnkvAbJKORj']</td>\n",
       "      <td>4</td>\n",
       "      <td>1</td>\n",
       "      <td>True</td>\n",
       "      <td>0.440</td>\n",
       "      <td>...</td>\n",
       "      <td>0.2370</td>\n",
       "      <td>0.16300</td>\n",
       "      <td>0.000004</td>\n",
       "      <td>0.1210</td>\n",
       "      <td>0.574</td>\n",
       "      <td>96.752</td>\n",
       "      <td>213640</td>\n",
       "      <td>4.0</td>\n",
       "      <td>1999</td>\n",
       "      <td>1999-11-02</td>\n",
       "    </tr>\n",
       "    <tr>\n",
       "      <th>4</th>\n",
       "      <td>1MQTmpYOZ6fcMQc56Hdo7T</td>\n",
       "      <td>Sleep Now In the Fire</td>\n",
       "      <td>The Battle Of Los Angeles</td>\n",
       "      <td>2eia0myWFgoHuttJytCxgX</td>\n",
       "      <td>['Rage Against The Machine']</td>\n",
       "      <td>['2d0hyoQ5ynDBnkvAbJKORj']</td>\n",
       "      <td>5</td>\n",
       "      <td>1</td>\n",
       "      <td>False</td>\n",
       "      <td>0.426</td>\n",
       "      <td>...</td>\n",
       "      <td>0.0701</td>\n",
       "      <td>0.00162</td>\n",
       "      <td>0.105000</td>\n",
       "      <td>0.0789</td>\n",
       "      <td>0.539</td>\n",
       "      <td>127.059</td>\n",
       "      <td>205600</td>\n",
       "      <td>4.0</td>\n",
       "      <td>1999</td>\n",
       "      <td>1999-11-02</td>\n",
       "    </tr>\n",
       "  </tbody>\n",
       "</table>\n",
       "<p>5 rows × 24 columns</p>\n",
       "</div>"
      ],
      "text/plain": [
       "                       id                   name                      album  \\\n",
       "0  7lmeHLHBe4nmXzuXc0HDjk                Testify  The Battle Of Los Angeles   \n",
       "1  1wsRitfRRtWyEapl0q22o8        Guerrilla Radio  The Battle Of Los Angeles   \n",
       "2  1hR0fIFK2qRG3f3RF70pb7       Calm Like a Bomb  The Battle Of Los Angeles   \n",
       "3  2lbASgTSoDO7MTuLAXlTW0              Mic Check  The Battle Of Los Angeles   \n",
       "4  1MQTmpYOZ6fcMQc56Hdo7T  Sleep Now In the Fire  The Battle Of Los Angeles   \n",
       "\n",
       "                 album_id                       artists  \\\n",
       "0  2eia0myWFgoHuttJytCxgX  ['Rage Against The Machine']   \n",
       "1  2eia0myWFgoHuttJytCxgX  ['Rage Against The Machine']   \n",
       "2  2eia0myWFgoHuttJytCxgX  ['Rage Against The Machine']   \n",
       "3  2eia0myWFgoHuttJytCxgX  ['Rage Against The Machine']   \n",
       "4  2eia0myWFgoHuttJytCxgX  ['Rage Against The Machine']   \n",
       "\n",
       "                   artist_ids  track_number  disc_number  explicit  \\\n",
       "0  ['2d0hyoQ5ynDBnkvAbJKORj']             1            1     False   \n",
       "1  ['2d0hyoQ5ynDBnkvAbJKORj']             2            1      True   \n",
       "2  ['2d0hyoQ5ynDBnkvAbJKORj']             3            1     False   \n",
       "3  ['2d0hyoQ5ynDBnkvAbJKORj']             4            1      True   \n",
       "4  ['2d0hyoQ5ynDBnkvAbJKORj']             5            1     False   \n",
       "\n",
       "   danceability  ...  speechiness  acousticness  instrumentalness  liveness  \\\n",
       "0         0.470  ...       0.0727       0.02610          0.000011    0.3560   \n",
       "1         0.599  ...       0.1880       0.01290          0.000071    0.1550   \n",
       "2         0.315  ...       0.4830       0.02340          0.000002    0.1220   \n",
       "3         0.440  ...       0.2370       0.16300          0.000004    0.1210   \n",
       "4         0.426  ...       0.0701       0.00162          0.105000    0.0789   \n",
       "\n",
       "   valence    tempo  duration_ms  time_signature  year  release_date  \n",
       "0    0.503  117.906       210133             4.0  1999    1999-11-02  \n",
       "1    0.489  103.680       206200             4.0  1999    1999-11-02  \n",
       "2    0.370  149.749       298893             4.0  1999    1999-11-02  \n",
       "3    0.574   96.752       213640             4.0  1999    1999-11-02  \n",
       "4    0.539  127.059       205600             4.0  1999    1999-11-02  \n",
       "\n",
       "[5 rows x 24 columns]"
      ]
     },
     "execution_count": 17,
     "metadata": {},
     "output_type": "execute_result"
    }
   ],
   "source": [
    "import pandas as pd\n",
    "\n",
    "df = pd.read_csv(\"../data/tracks_features.csv\")\n",
    "\n",
    "df_mini = df.iloc[0:5]\n",
    "\n",
    "df_mini"
   ]
  },
  {
   "cell_type": "markdown",
   "metadata": {},
   "source": [
    "Let's add popularity and genres of tracks"
   ]
  },
  {
   "cell_type": "code",
   "execution_count": null,
   "metadata": {},
   "outputs": [],
   "source": [
    "df_mini['popularity'] = ''\n",
    "df_mini['genres'] = ''\n",
    "\n",
    "for id, track_id in enumerate(df_mini['id']):\n",
    "    features = format_track(get_audio_features(track_id))\n",
    "    df_mini.loc[df_mini['id'] == track_id, 'popularity'] = features['popularity']\n",
    "    df_mini.loc[df_mini['id'] == track_id, 'genres'] = \"['\" + \"', '\".join(features['genres']) + \"']\"\n",
    "    df_mini.loc[df_mini['id'] == track_id, 'artists'] = \"['\" + \"', '\".join(features['artists']) + \"']\""
   ]
  },
  {
   "cell_type": "markdown",
   "metadata": {},
   "source": [
    "And do it for the whole dataframe..."
   ]
  },
  {
   "cell_type": "code",
   "execution_count": null,
   "metadata": {},
   "outputs": [
    {
     "name": "stdout",
     "output_type": "stream",
     "text": [
      "671\n"
     ]
    }
   ],
   "source": [
    "import pandas as pd\n",
    "from IPython.display import clear_output\n",
    "\n",
    "df = pd.read_csv(\"../data/tracks_features.csv\")\n",
    "\n",
    "df['popularity'] = ''\n",
    "df['genres'] = ''\n",
    "\n",
    "errors = []\n",
    "\n",
    "for id, track_id in enumerate(df['id']):\n",
    "    print(id)\n",
    "    try:\n",
    "        features = format_track(get_audio_features(track_id))\n",
    "        df.loc[df['id'] == track_id, 'popularity'] = features['popularity']\n",
    "        df.loc[df['id'] == track_id, 'genres'] = \"['\" + \"', '\".join(features['genres']) + \"']\"\n",
    "    except Exception:\n",
    "        errors.append(track_id)\n",
    "    clear_output()"
   ]
  }
 ],
 "metadata": {
  "kernelspec": {
   "display_name": "Python 3",
   "language": "python",
   "name": "python3"
  },
  "language_info": {
   "codemirror_mode": {
    "name": "ipython",
    "version": 3
   },
   "file_extension": ".py",
   "mimetype": "text/x-python",
   "name": "python",
   "nbconvert_exporter": "python",
   "pygments_lexer": "ipython3",
   "version": "3.12.1"
  }
 },
 "nbformat": 4,
 "nbformat_minor": 2
}
