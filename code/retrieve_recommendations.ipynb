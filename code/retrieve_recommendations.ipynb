{
 "cells": [
  {
   "cell_type": "code",
   "execution_count": 6,
   "metadata": {},
   "outputs": [],
   "source": [
    "from recsys import RecSys"
   ]
  },
  {
   "cell_type": "code",
   "execution_count": 7,
   "metadata": {},
   "outputs": [],
   "source": [
    "rec_sys = RecSys(\n",
    "    client_id='YOUR_ID',\n",
    "    client_secret='YOUR_SECRET'\n",
    ")"
   ]
  },
  {
   "cell_type": "code",
   "execution_count": 9,
   "metadata": {},
   "outputs": [
    {
     "data": {
      "text/html": [
       "<div>\n",
       "<style scoped>\n",
       "    .dataframe tbody tr th:only-of-type {\n",
       "        vertical-align: middle;\n",
       "    }\n",
       "\n",
       "    .dataframe tbody tr th {\n",
       "        vertical-align: top;\n",
       "    }\n",
       "\n",
       "    .dataframe thead th {\n",
       "        text-align: right;\n",
       "    }\n",
       "</style>\n",
       "<table border=\"1\" class=\"dataframe\">\n",
       "  <thead>\n",
       "    <tr style=\"text-align: right;\">\n",
       "      <th></th>\n",
       "      <th>name</th>\n",
       "      <th>album</th>\n",
       "      <th>artists</th>\n",
       "      <th>track_number</th>\n",
       "    </tr>\n",
       "  </thead>\n",
       "  <tbody>\n",
       "    <tr>\n",
       "      <th>0</th>\n",
       "      <td>Never Gonna Give You Up</td>\n",
       "      <td>Whenever You Need Somebody</td>\n",
       "      <td>['Rick Astley']</td>\n",
       "      <td>1</td>\n",
       "    </tr>\n",
       "    <tr>\n",
       "      <th>1</th>\n",
       "      <td>All Your Love - Original Edit</td>\n",
       "      <td>Priority (Bonus Track Version)</td>\n",
       "      <td>['The Pointer Sisters']</td>\n",
       "      <td>2</td>\n",
       "    </tr>\n",
       "    <tr>\n",
       "      <th>2</th>\n",
       "      <td>Sector naval</td>\n",
       "      <td>Heroes de los 80. Galicia canibal (Fai un sol ...</td>\n",
       "      <td>['Os Resentidos']</td>\n",
       "      <td>8</td>\n",
       "    </tr>\n",
       "    <tr>\n",
       "      <th>3</th>\n",
       "      <td>God Tonight - 12' Version</td>\n",
       "      <td>Kiss The Ground / God Tonight (Remixies)</td>\n",
       "      <td>['Real Life']</td>\n",
       "      <td>4</td>\n",
       "    </tr>\n",
       "    <tr>\n",
       "      <th>4</th>\n",
       "      <td>God Tonight - 12' Version</td>\n",
       "      <td>Lifetime</td>\n",
       "      <td>['Real Life']</td>\n",
       "      <td>1</td>\n",
       "    </tr>\n",
       "  </tbody>\n",
       "</table>\n",
       "</div>"
      ],
      "text/plain": [
       "                            name  \\\n",
       "0        Never Gonna Give You Up   \n",
       "1  All Your Love - Original Edit   \n",
       "2                   Sector naval   \n",
       "3      God Tonight - 12' Version   \n",
       "4      God Tonight - 12' Version   \n",
       "\n",
       "                                               album                  artists  \\\n",
       "0                         Whenever You Need Somebody          ['Rick Astley']   \n",
       "1                     Priority (Bonus Track Version)  ['The Pointer Sisters']   \n",
       "2  Heroes de los 80. Galicia canibal (Fai un sol ...        ['Os Resentidos']   \n",
       "3           Kiss The Ground / God Tonight (Remixies)            ['Real Life']   \n",
       "4                                           Lifetime            ['Real Life']   \n",
       "\n",
       "   track_number  \n",
       "0             1  \n",
       "1             2  \n",
       "2             8  \n",
       "3             4  \n",
       "4             1  "
      ]
     },
     "execution_count": 9,
     "metadata": {},
     "output_type": "execute_result"
    }
   ],
   "source": [
    "rec_sys.recommend('Never Gonna Give you Up')"
   ]
  }
 ],
 "metadata": {
  "kernelspec": {
   "display_name": ".ml_venv",
   "language": "python",
   "name": "python3"
  },
  "language_info": {
   "codemirror_mode": {
    "name": "ipython",
    "version": 3
   },
   "file_extension": ".py",
   "mimetype": "text/x-python",
   "name": "python",
   "nbconvert_exporter": "python",
   "pygments_lexer": "ipython3",
   "version": "3.10.11"
  }
 },
 "nbformat": 4,
 "nbformat_minor": 2
}
